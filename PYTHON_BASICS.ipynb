{
 "cells": [
  {
   "cell_type": "code",
   "execution_count": 1,
   "id": "9bd43da2",
   "metadata": {},
   "outputs": [
    {
     "name": "stdout",
     "output_type": "stream",
     "text": [
      "Enter the radius:3\n",
      "Area of circle is 28.259999999999998\n"
     ]
    }
   ],
   "source": [
    "#Write a Python program which accepts the radius of a circle from the user\n",
    "#and compute the area\n",
    "r=float(input('Enter the radius:'))\n",
    "a=3.14*r*r\n",
    "print('Area of circle is',a)"
   ]
  },
  {
   "cell_type": "code",
   "execution_count": 4,
   "id": "2358a4d5",
   "metadata": {},
   "outputs": [
    {
     "name": "stdout",
     "output_type": "stream",
     "text": [
      "enetr the name:Aneesa\n",
      "enter roll number12\n",
      "enter the mark100\n",
      "Name: Aneesa\n",
      "Rollnumber: 12\n",
      "Mark: 100\n"
     ]
    }
   ],
   "source": [
    "#Write a Python Program to accept the details of a student like name, roll\n",
    "#number and mark and display it.\n",
    "Name=input(\"enetr the name:\")\n",
    "Rollno=int(input(\"enter roll number\"))\n",
    "Mark=int(input(\"enter the mark\"))\n",
    "print('Name:',Name)\n",
    "print('Rollnumber:',Rollno)\n",
    "print('Mark:',Mark)\n"
   ]
  },
  {
   "cell_type": "code",
   "execution_count": 7,
   "id": "4590dcfe",
   "metadata": {},
   "outputs": [
    {
     "name": "stdout",
     "output_type": "stream",
     "text": [
      "[1, 2, 2, 4, 8, 20]\n",
      "20 is the largest number\n"
     ]
    }
   ],
   "source": [
    "#Write a Python program to get the largest number from a list\n",
    "x=[4,2,8,1,20,2]\n",
    "x.sort()\n",
    "print(x)\n",
    "print(x[-1], \"is the largest number\")"
   ]
  },
  {
   "cell_type": "code",
   "execution_count": 8,
   "id": "66dc0601",
   "metadata": {},
   "outputs": [
    {
     "name": "stdout",
     "output_type": "stream",
     "text": [
      "Current Number: 1\n",
      "Previous Number: 0\n",
      "Sum: 1\n",
      "Current Number: 2\n",
      "Previous Number: 1\n",
      "Sum: 3\n",
      "Current Number: 3\n",
      "Previous Number: 2\n",
      "Sum: 5\n",
      "Current Number: 4\n",
      "Previous Number: 3\n",
      "Sum: 7\n",
      "Current Number: 5\n",
      "Previous Number: 4\n",
      "Sum: 9\n",
      "Current Number: 6\n",
      "Previous Number: 5\n",
      "Sum: 11\n",
      "Current Number: 7\n",
      "Previous Number: 6\n",
      "Sum: 13\n",
      "Current Number: 8\n",
      "Previous Number: 7\n",
      "Sum: 15\n",
      "Current Number: 9\n",
      "Previous Number: 8\n",
      "Sum: 17\n",
      "Current Number: 10\n",
      "Previous Number: 9\n",
      "Sum: 19\n"
     ]
    }
   ],
   "source": [
    "#Given a range of first 10 numbers, write a Python program to iterate from\n",
    "#start number to the end number and print the sum of the current number\n",
    "#and previous number. \n",
    "for n in range(1,11):\n",
    "    p=n-1\n",
    "    c=p+1\n",
    "    s=p+c\n",
    "    print('Current Number:',c)\n",
    "    print('Previous Number:',p)\n",
    "    print('Sum:',s)\n"
   ]
  },
  {
   "cell_type": "code",
   "execution_count": 9,
   "id": "4c38cc48",
   "metadata": {},
   "outputs": [
    {
     "name": "stdout",
     "output_type": "stream",
     "text": [
      "10\n",
      "20\n",
      "55\n"
     ]
    }
   ],
   "source": [
    "#Write a python program to print only those numbers which are divisible of 5.\n",
    "n=[10,20,33,46,55]\n",
    "for i in n:\n",
    " if i%5==0:\n",
    "   print(i)"
   ]
  },
  {
   "cell_type": "code",
   "execution_count": 15,
   "id": "6a5f3379",
   "metadata": {},
   "outputs": [
    {
     "name": "stdout",
     "output_type": "stream",
     "text": [
      "enter the number4\n",
      "4 is not a prime number\n"
     ]
    }
   ],
   "source": [
    "#prime or not\n",
    "num=int(input('enter the number'))\n",
    "flag = False\n",
    "\n",
    "if num == 1:\n",
    "    print(num, \"is not a prime number\")\n",
    "elif num > 1:\n",
    "    for i in range(2, num):\n",
    "        if (num % i) == 0:\n",
    "            flag = True\n",
    "            break\n",
    "    if flag:\n",
    "        print(num, \"is not a prime number\")\n",
    "    else:\n",
    "        print(num, \"is a prime number\")\n",
    "    \n",
    "    "
   ]
  },
  {
   "cell_type": "code",
   "execution_count": 23,
   "id": "1e415802",
   "metadata": {},
   "outputs": [
    {
     "name": "stdout",
     "output_type": "stream",
     "text": [
      "10\n",
      "30\n",
      "40\n",
      "10\n"
     ]
    }
   ],
   "source": [
    "x=[10,40,30,10]\n",
    "for i in range(len(x)-1,-1,-1):\n",
    "    print(x[i])"
   ]
  },
  {
   "cell_type": "code",
   "execution_count": 24,
   "id": "a4c6b86e",
   "metadata": {},
   "outputs": [
    {
     "name": "stdout",
     "output_type": "stream",
     "text": [
      "*\n",
      "**\n",
      "***\n",
      "****\n"
     ]
    }
   ],
   "source": [
    "#Write a python program to print the following pattern.\n",
    "rows=4\n",
    "for i in range(0,rows):\n",
    "    for j in range(0,i+1):\n",
    "        print('*',end=\"\")\n",
    "    print()"
   ]
  },
  {
   "cell_type": "code",
   "execution_count": 25,
   "id": "b8e2167c",
   "metadata": {},
   "outputs": [
    {
     "name": "stdout",
     "output_type": "stream",
     "text": [
      "39\n"
     ]
    }
   ],
   "source": [
    "#Write a Python program to find the maximum of three numbers \n",
    "x=5,7,39,1\n",
    "m=max(x)\n",
    "print(m)"
   ]
  },
  {
   "cell_type": "code",
   "execution_count": 26,
   "id": "96cd473c",
   "metadata": {},
   "outputs": [
    {
     "name": "stdout",
     "output_type": "stream",
     "text": [
      "*\n",
      "**\n",
      "***\n",
      "****\n",
      "*****\n",
      "****\n",
      "***\n",
      "**\n",
      "*\n",
      "\n",
      "\n"
     ]
    }
   ],
   "source": [
    "#Write a Python program to construct the following pattern, using a\n",
    "#nested for loop\n",
    "rows=5\n",
    "for i in range(0,rows):\n",
    "    for j in range(0,i+1):\n",
    "        print('*',end=\"\")\n",
    "    print()\n",
    "for i in range(rows+1,0,-1):\n",
    "    for j in range(1,i-1):\n",
    "        print('*',end=\"\")\n",
    "    print()"
   ]
  },
  {
   "cell_type": "code",
   "execution_count": null,
   "id": "7c508ba4",
   "metadata": {},
   "outputs": [],
   "source": []
  }
 ],
 "metadata": {
  "kernelspec": {
   "display_name": "Python 3 (ipykernel)",
   "language": "python",
   "name": "python3"
  },
  "language_info": {
   "codemirror_mode": {
    "name": "ipython",
    "version": 3
   },
   "file_extension": ".py",
   "mimetype": "text/x-python",
   "name": "python",
   "nbconvert_exporter": "python",
   "pygments_lexer": "ipython3",
   "version": "3.9.12"
  }
 },
 "nbformat": 4,
 "nbformat_minor": 5
}
