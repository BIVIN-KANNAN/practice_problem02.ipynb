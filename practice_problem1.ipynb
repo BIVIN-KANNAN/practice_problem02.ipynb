{
  "nbformat": 4,
  "nbformat_minor": 0,
  "metadata": {
    "colab": {
      "provenance": []
    },
    "kernelspec": {
      "name": "python3",
      "display_name": "Python 3"
    },
    "language_info": {
      "name": "python"
    }
  },
  "cells": [
    {
      "cell_type": "markdown",
      "source": [
        "# **practice problem**"
      ],
      "metadata": {
        "id": "rXmFxrygCTTI"
      }
    },
    {
      "cell_type": "code",
      "execution_count": null,
      "metadata": {
        "id": "YnRX6U6j_pjg"
      },
      "outputs": [],
      "source": []
    },
    {
      "cell_type": "markdown",
      "source": [
        "# 1.Write a Python program which accepts the radius of a circle from the user and compute the area.\n",
        "Sample input: Enter the radius: 3\n",
        "Sample output: Area of Circle is 28.59999999999"
      ],
      "metadata": {
        "id": "ecUsyEomigbR"
      }
    },
    {
      "cell_type": "code",
      "execution_count": null,
      "metadata": {
        "colab": {
          "base_uri": "https://localhost:8080/"
        },
        "id": "yGvgSdDvmw1z",
        "outputId": "7bd394b2-ed9f-49dd-f777-25c5f622fd72"
      },
      "outputs": [
        {
          "name": "stdout",
          "output_type": "stream",
          "text": [
            "enter the radius:3\n",
            "area 28.274333882308138\n"
          ]
        }
      ],
      "source": [
        "import math\n",
        "r = float(input('enter the radius:'))\n",
        "a = math.pi * (r ** 2)\n",
        "print('area',a)"
      ]
    },
    {
      "cell_type": "markdown",
      "source": [
        "#2. Write a Python Program to accept the details of a student like name, roll number and mark and display it.\n",
        "Sample input: Enter the name: Anisha\n",
        "Enter the roll number: 21\n",
        "Enter the mark: 78\n",
        "Sample output: Name: Anisha\n",
        "Roll No: 21\n",
        "Mark: 78"
      ],
      "metadata": {
        "id": "Ry4kwQQnjKs5"
      }
    },
    {
      "cell_type": "code",
      "source": [
        "name = input(\"enter the name: \")\n",
        "roll_number = input('enter roll number: ')\n",
        "mark =input('enter mark: ')\n"
      ],
      "metadata": {
        "colab": {
          "base_uri": "https://localhost:8080/"
        },
        "id": "B3LRig1ljiwP",
        "outputId": "bf08af3a-2fee-43d6-ec13-7e6a720b8a6c"
      },
      "execution_count": 1,
      "outputs": [
        {
          "name": "stdout",
          "output_type": "stream",
          "text": [
            "enter the name: Anisha\n",
            "enter roll number: 21\n",
            "enter mark: 78\n"
          ]
        }
      ]
    },
    {
      "cell_type": "markdown",
      "source": [
        "#3. Write a Python program to get the largest number from a list.\n",
        "Sample input: 12, 3, 47, 10"
      ],
      "metadata": {
        "id": "u4iBDHGcsw3k"
      }
    },
    {
      "cell_type": "code",
      "source": [
        "from ast import Compare\n",
        "input_numbers = input('enter the numbers:')\n",
        "input_numbers = find_largest_number(numbers)\n",
        "input_numbers"
      ],
      "metadata": {
        "id": "jsU8mX6os8tA"
      },
      "execution_count": null,
      "outputs": []
    },
    {
      "cell_type": "markdown",
      "source": [
        "#4. Given a range of first 10 numbers, write a Python program to iterate from start number to the end number and print the sum of the current number and previous number.\n",
        " Sample input: 1….10"
      ],
      "metadata": {
        "id": "xjF9UoXr2g_h"
      }
    },
    {
      "cell_type": "code",
      "source": [
        "\n",
        "previous_number = 0\n",
        "for current_number in range(1, 11):\n",
        "    current_sum = current_number + previous_number\n",
        "    print(\"Current Number:\", current_number, \"Previous Number:\", previous_number, \"Sum:\", current_sum)\n",
        "    previous_number = current_number\n"
      ],
      "metadata": {
        "id": "K36DugzFEi0b"
      },
      "execution_count": null,
      "outputs": []
    },
    {
      "cell_type": "markdown",
      "source": [
        "#5. Write a Python program to print only those numbers which are divisible of 5.\n",
        "Sample input: 10, 20,33,46,55 Sample output: 10, 20, 55"
      ],
      "metadata": {
        "id": "hIu9lyuZFEsD"
      }
    },
    {
      "cell_type": "code",
      "source": [
        "b= 10, 20,33,46,55\n",
        "for a in b:\n",
        "  if a % 5 == 0:\n",
        "    print(a)"
      ],
      "metadata": {
        "colab": {
          "base_uri": "https://localhost:8080/"
        },
        "id": "Nly-qDjAFOUk",
        "outputId": "140a5a8d-676e-46b0-abcd-b4bc39c9940e"
      },
      "execution_count": 30,
      "outputs": [
        {
          "output_type": "stream",
          "name": "stdout",
          "text": [
            "10\n",
            "20\n",
            "55\n"
          ]
        }
      ]
    },
    {
      "cell_type": "markdown",
      "source": [
        "#6.Write a Python program to check whether a number is prime or not. Sample input: Enter the number: 3\n",
        "Sample output: 3 is a prime number"
      ],
      "metadata": {
        "id": "9j5hTF9LJ0SI"
      }
    },
    {
      "cell_type": "code",
      "source": [
        "num = int(input(\"Enter the number: \"))\n",
        "if num % 2 != 0 :\n",
        "  print('prime')\n",
        "else:\n",
        "  print('not a prime')"
      ],
      "metadata": {
        "colab": {
          "base_uri": "https://localhost:8080/"
        },
        "id": "YpPoad2JJ_U_",
        "outputId": "dd9fcc4e-2555-4df0-e1e5-3153263b5912"
      },
      "execution_count": 54,
      "outputs": [
        {
          "output_type": "stream",
          "name": "stdout",
          "text": [
            "Enter the number: 3\n",
            "prime\n"
          ]
        }
      ]
    },
    {
      "cell_type": "markdown",
      "source": [
        "#7. Write a Python program to reverse a list using for loop.\n",
        "Sample input: 10,40,30,70\n",
        "Sample output: 70,30,40,10"
      ],
      "metadata": {
        "id": "ZmRVG8T7QMKo"
      }
    },
    {
      "cell_type": "code",
      "source": [
        "a = [10,40,30,70]\n",
        "reversed_a = a[::-1]\n",
        "print('reversed number:', reversed_a)\n",
        "\n"
      ],
      "metadata": {
        "colab": {
          "base_uri": "https://localhost:8080/"
        },
        "id": "mq0uMgGFQVZF",
        "outputId": "ff93eef7-dfdb-450e-a349-7467b45da723"
      },
      "execution_count": 66,
      "outputs": [
        {
          "output_type": "stream",
          "name": "stdout",
          "text": [
            "reversed number: [70, 30, 40, 10]\n"
          ]
        }
      ]
    },
    {
      "cell_type": "markdown",
      "source": [
        "#8. Write a Python program to print the following pattern.\n",
        "*\n",
        "**\n",
        "***\n",
        "****"
      ],
      "metadata": {
        "id": "zjHIGUiuU4MU"
      }
    },
    {
      "cell_type": "code",
      "source": [
        "level = 4\n",
        "for i in range(1, level + 1):\n",
        "    print('*' * i)\n"
      ],
      "metadata": {
        "colab": {
          "base_uri": "https://localhost:8080/"
        },
        "id": "0wtN2BntT8HZ",
        "outputId": "c9548139-3c9a-426a-f368-61d09cf29c85"
      },
      "execution_count": 69,
      "outputs": [
        {
          "output_type": "stream",
          "name": "stdout",
          "text": [
            "*\n",
            "**\n",
            "***\n",
            "****\n"
          ]
        }
      ]
    },
    {
      "cell_type": "markdown",
      "source": [
        "#9. Write a Python program to find the maximum of three numbers\n",
        "Sample input: 34,12,7\n",
        "Sample output: 34"
      ],
      "metadata": {
        "id": "_cIyWN4cVt79"
      }
    },
    {
      "cell_type": "code",
      "source": [
        "num1 = float(input(\"Enter the first number: \"))\n",
        "num2 = float(input(\"Enter the second number: \"))\n",
        "num3 = float(input(\"Enter the third number: \"))\n",
        "maximum_number = max(num1, num2, num3)\n",
        "print(\"The maximum of {}, {}, and {} is: {}\".format(num1, num2, num3, maximum_number))"
      ],
      "metadata": {
        "colab": {
          "base_uri": "https://localhost:8080/"
        },
        "id": "GKrc0XsjV2TG",
        "outputId": "f9368b07-2b4d-4bb8-a75d-833334e26cd7"
      },
      "execution_count": 74,
      "outputs": [
        {
          "output_type": "stream",
          "name": "stdout",
          "text": [
            "Enter the first number: 34\n",
            "Enter the second number: 12\n",
            "Enter the third number: 7\n",
            "The maximum of 34.0, 12.0, and 7.0 is: 34.0\n"
          ]
        }
      ]
    },
    {
      "cell_type": "markdown",
      "source": [
        "#Write a Python program to construct the following pattern, using a nested for loop."
      ],
      "metadata": {
        "id": "nwIiIMEEX1C9"
      }
    },
    {
      "cell_type": "code",
      "source": [
        "num_row = 5\n",
        "for i in range(1, num_row + 1):\n",
        "    print('*' * i)"
      ],
      "metadata": {
        "colab": {
          "base_uri": "https://localhost:8080/"
        },
        "id": "8t1JqWQhY3Vs",
        "outputId": "8b98b05d-6a6e-43d5-bfdd-64338ab81c71"
      },
      "execution_count": 78,
      "outputs": [
        {
          "output_type": "stream",
          "name": "stdout",
          "text": [
            "*\n",
            "**\n",
            "***\n",
            "****\n",
            "*****\n"
          ]
        }
      ]
    }
  ]
}